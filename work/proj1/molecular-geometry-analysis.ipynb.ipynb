{
 "cells": [
  {
   "cell_type": "markdown",
   "metadata": {},
   "source": [
    "### Step 1\n",
    "Set up the working environment. (you don't need understand the steps in the first cell)\n",
    "- Change the path and import the prototype class `MoleculeMixin`\n",
    "and the reference class `mole.Molecule`.\n",
    "- List all the input file names and store them in the `INPUT_LIST`."
   ]
  },
  {
   "cell_type": "code",
   "execution_count": 8,
   "metadata": {},
   "outputs": [],
   "source": [
    "import numpy as np\n",
    "import scipy\n",
    "\n",
    "import os\n",
    "os.chdir(\"../../src/proj1/\")\n",
    "from mole import MoleculeMixin\n",
    "from mole import Molecule\n",
    "\n",
    "os.chdir(\"../../work/proj1/\")\n",
    "\n",
    "INPUT_LIST = [\"./input/\" + file_name for file_name in os.listdir(\"./input/\")]"
   ]
  },
  {
   "cell_type": "markdown",
   "metadata": {},
   "source": [
    "### Step 2\n",
    "Create an instance of `Molecule`."
   ]
  },
  {
   "cell_type": "code",
   "execution_count": 9,
   "metadata": {},
   "outputs": [],
   "source": [
    "mol = Molecule()\n",
    "mol.construct_from_dat_file(\"./input/allene.xyz\")"
   ]
  },
  {
   "cell_type": "markdown",
   "metadata": {},
   "source": [
    "### Step 3\n",
    "- Define a function to calculate the bond length of atom `i` and atom `j`."
   ]
  },
  {
   "cell_type": "code",
   "execution_count": 10,
   "metadata": {},
   "outputs": [
    {
     "name": "stdout",
     "output_type": "stream",
     "text": [
      "0 1 2.551130084582\n"
     ]
    }
   ],
   "source": [
    "def bond_length_v1(mol_obj: Molecule, i: int, j: int) -> float:\n",
    "    # Input: `i`, `j` index of molecule's atom\n",
    "    # Output: Bond length from atom `i` to atom `j`\n",
    "    return np.linalg.norm(mol_obj.atom_coords[i] - mol_obj.atom_coords[j])\n",
    "\n",
    "bond_length_0_1 = bond_length_v1(mol, 0, 1)\n",
    "print(0, 1, bond_length_0_1)"
   ]
  },
  {
   "cell_type": "markdown",
   "metadata": {},
   "source": [
    "- **How to print pretty string?** \n",
    "Reader may search the key words like `python string format` for more details."
   ]
  },
  {
   "cell_type": "code",
   "execution_count": 11,
   "metadata": {},
   "outputs": [
    {
     "name": "stdout",
     "output_type": "stream",
     "text": [
      "Bond length 0-1: 2.5511 Bohr\n"
     ]
    }
   ],
   "source": [
    "print(\"Bond length {:d}-{:d}: {:6.4f} Bohr\".format(0, 1, bond_length_0_1))"
   ]
  },
  {
   "cell_type": "markdown",
   "metadata": {},
   "source": [
    "- **Let' write a function to do this.** "
   ]
  },
  {
   "cell_type": "code",
   "execution_count": 12,
   "metadata": {},
   "outputs": [
    {
     "name": "stdout",
     "output_type": "stream",
     "text": [
      "=== Bond Length ===\n"
     ]
    },
    {
     "ename": "NotImplementedError",
     "evalue": "Exactly 1 line of code",
     "output_type": "error",
     "traceback": [
      "\u001b[0;31m---------------------------------------------------------------------------\u001b[0m",
      "\u001b[0;31mNotImplementedError\u001b[0m                       Traceback (most recent call last)",
      "\u001b[0;32m<ipython-input-12-eb9cbaf84082>\u001b[0m in \u001b[0;36m<module>\u001b[0;34m\u001b[0m\n\u001b[1;32m      7\u001b[0m             \u001b[0;32mraise\u001b[0m \u001b[0mNotImplementedError\u001b[0m\u001b[0;34m(\u001b[0m\u001b[0;34m\"Exactly 1 line of code\"\u001b[0m\u001b[0;34m)\u001b[0m\u001b[0;34m\u001b[0m\u001b[0;34m\u001b[0m\u001b[0m\n\u001b[1;32m      8\u001b[0m \u001b[0;34m\u001b[0m\u001b[0m\n\u001b[0;32m----> 9\u001b[0;31m \u001b[0mprint_bond_length\u001b[0m\u001b[0;34m(\u001b[0m\u001b[0mmol\u001b[0m\u001b[0;34m)\u001b[0m\u001b[0;34m\u001b[0m\u001b[0;34m\u001b[0m\u001b[0m\n\u001b[0m",
      "\u001b[0;32m<ipython-input-12-eb9cbaf84082>\u001b[0m in \u001b[0;36mprint_bond_length\u001b[0;34m(mol_obj)\u001b[0m\n\u001b[1;32m      5\u001b[0m     \u001b[0;32mfor\u001b[0m \u001b[0mi\u001b[0m \u001b[0;32min\u001b[0m \u001b[0mrange\u001b[0m\u001b[0;34m(\u001b[0m\u001b[0mnatm\u001b[0m\u001b[0;34m)\u001b[0m\u001b[0;34m:\u001b[0m\u001b[0;34m\u001b[0m\u001b[0;34m\u001b[0m\u001b[0m\n\u001b[1;32m      6\u001b[0m         \u001b[0;32mfor\u001b[0m \u001b[0mj\u001b[0m \u001b[0;32min\u001b[0m \u001b[0mrange\u001b[0m\u001b[0;34m(\u001b[0m\u001b[0mi\u001b[0m \u001b[0;34m+\u001b[0m \u001b[0;36m1\u001b[0m\u001b[0;34m,\u001b[0m \u001b[0mnatm\u001b[0m\u001b[0;34m)\u001b[0m\u001b[0;34m:\u001b[0m\u001b[0;34m\u001b[0m\u001b[0;34m\u001b[0m\u001b[0m\n\u001b[0;32m----> 7\u001b[0;31m             \u001b[0;32mraise\u001b[0m \u001b[0mNotImplementedError\u001b[0m\u001b[0;34m(\u001b[0m\u001b[0;34m\"Exactly 1 line of code\"\u001b[0m\u001b[0;34m)\u001b[0m\u001b[0;34m\u001b[0m\u001b[0;34m\u001b[0m\u001b[0m\n\u001b[0m\u001b[1;32m      8\u001b[0m \u001b[0;34m\u001b[0m\u001b[0m\n\u001b[1;32m      9\u001b[0m \u001b[0mprint_bond_length\u001b[0m\u001b[0;34m(\u001b[0m\u001b[0mmol\u001b[0m\u001b[0;34m)\u001b[0m\u001b[0;34m\u001b[0m\u001b[0;34m\u001b[0m\u001b[0m\n",
      "\u001b[0;31mNotImplementedError\u001b[0m: Exactly 1 line of code"
     ]
    }
   ],
   "source": [
    "def print_bond_length(mol_obj: Molecule):\n",
    "    # Usage: Print all bond length\n",
    "    print(\"=== Bond Length ===\")\n",
    "    natm = mol_obj.natm\n",
    "    for i in range(natm):\n",
    "        for j in range(i + 1, natm):\n",
    "            raise NotImplementedError(\"Exactly 1 line of code\")\n",
    "\n",
    "print_bond_length(mol)"
   ]
  },
  {
   "cell_type": "markdown",
   "metadata": {},
   "source": [
    "- **How to make your function more safe?** For example, you may want to check if the atom labels are samller than the number of atoms or if the two labels are the same."
   ]
  },
  {
   "cell_type": "code",
   "execution_count": 13,
   "metadata": {},
   "outputs": [
    {
     "name": "stdout",
     "output_type": "stream",
     "text": [
      "Bond length 0-1: 2.5511 Bohr\n"
     ]
    }
   ],
   "source": [
    "def bond_length_v2(mol_obj: MoleculeMixin, iatm: int, jatm: int) -> float:\n",
    "    assert iatm < mol_obj.natm\n",
    "    assert jatm < mol_obj.natm\n",
    "    assert iatm != jatm\n",
    "    \n",
    "    iatm_coords = mol_obj.atom_coords[iatm]\n",
    "    jatm_coords = mol_obj.atom_coords[jatm]\n",
    "\n",
    "    return np.linalg.norm(iatm_coords - jatm_coords)\n",
    "\n",
    "bond_length_0_1 = bond_length_v2(mol, 0, 1)\n",
    "print(\"Bond length {:d}-{:d}: {:6.4f} Bohr\".format(0, 1, bond_length_0_1))"
   ]
  },
  {
   "cell_type": "markdown",
   "metadata": {},
   "source": [
    "- **How to check if your (or other people's) function gives valid results?** As the authors provides us a function in the `SolMolecule` object, we can use it to check if the bond length is correct."
   ]
  },
  {
   "cell_type": "code",
   "execution_count": 14,
   "metadata": {},
   "outputs": [
    {
     "name": "stdout",
     "output_type": "stream",
     "text": [
      "Test File: ./input/benzene.xyz PASSED\n",
      "Test File: ./input/acetaldehyde.xyz PASSED\n",
      "Test File: ./input/allene.xyz PASSED\n"
     ]
    }
   ],
   "source": [
    "def test_bond_length(mol_obj : MoleculeMixin):\n",
    "    assert isinstance(mol_obj, MoleculeMixin)\n",
    "\n",
    "    natm = mol_obj.natm\n",
    "    for iatm in range(natm):\n",
    "        for jatm in range(natm):\n",
    "            if iatm != jatm:\n",
    "                sol_bond_length = mol_obj.bond_length(iatm, jatm)\n",
    "                my_bond_length = bond_length_v2(mol_obj, iatm, jatm)\n",
    "\n",
    "                assert abs(sol_bond_length - my_bond_length) < 1e-6\n",
    "\n",
    "\n",
    "for file_name in INPUT_LIST:\n",
    "    mol.construct_from_dat_file(file_name)\n",
    "    test_bond_length(mol)\n",
    "    print(\"Test File: {} PASSED\".format(file_name))"
   ]
  },
  {
   "cell_type": "code",
   "execution_count": null,
   "metadata": {},
   "outputs": [],
   "source": []
  }
 ],
 "metadata": {
  "kernelspec": {
   "display_name": "Python 3.8.8 ('base')",
   "language": "python",
   "name": "python3"
  },
  "language_info": {
   "codemirror_mode": {
    "name": "ipython",
    "version": 3
   },
   "file_extension": ".py",
   "mimetype": "text/x-python",
   "name": "python",
   "nbconvert_exporter": "python",
   "pygments_lexer": "ipython3",
   "version": "3.8.8"
  },
  "orig_nbformat": 4,
  "vscode": {
   "interpreter": {
    "hash": "cd6d3c4e16ae333676ac5ff0bb552f825d1015cadc6d12817bd9921e3f430be2"
   }
  }
 },
 "nbformat": 4,
 "nbformat_minor": 2
}

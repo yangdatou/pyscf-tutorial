{
 "cells": [
  {
   "cell_type": "code",
   "execution_count": 5,
   "metadata": {},
   "outputs": [],
   "source": [
    "import os\n",
    "os.chdir(\"../../src/proj1/\")\n",
    "from mole import MoleculeMixin\n",
    "from mole import Molecule as SolMolecule\n",
    "\n",
    "os.chdir(\"../../work/proj1/\")\n",
    "\n",
    "import numpy as np\n",
    "import scipy\n",
    "\n",
    "class MyMolecule(MoleculeMixin):\n",
    "    pass\n",
    "\n",
    "my_mol  = MyMolecule()\n",
    "my_mol.construct_from_dat_file(\"./input/allene.xyz\")\n",
    "sol_mol = SolMolecule()\n",
    "sol_mol.construct_from_dat_file(\"./input/allene.xyz\")"
   ]
  },
  {
   "cell_type": "code",
   "execution_count": 7,
   "metadata": {},
   "outputs": [
    {
     "name": "stdout",
     "output_type": "stream",
     "text": [
      "bond_length  =  2.5511\n",
      "bond_length  =  2.5511\n"
     ]
    }
   ],
   "source": [
    "def bond_length(mole: MoleculeMixin, i: int, j: int) -> float:\n",
    "    # Input: `i`, `j` index of molecule's atom\n",
    "    # Output: Bond length from atom `i` to atom `j`\n",
    "    return np.linalg.norm(mole.atom_coords[i] - mole.atom_coords[j])\n",
    "\n",
    "print(f\"bond_length  = {bond_length(sol_mol, 0, 1): 6.4f}\")\n",
    "print(f\"bond_length  = {bond_length(my_mol, 0, 1): 6.4f}\")\n"
   ]
  },
  {
   "cell_type": "code",
   "execution_count": 8,
   "metadata": {},
   "outputs": [
    {
     "name": "stdout",
     "output_type": "stream",
     "text": [
      "bond_length  =  2.5511\n"
     ]
    },
    {
     "ename": "AttributeError",
     "evalue": "'MyMolecule' object has no attribute 'bond_length'",
     "output_type": "error",
     "traceback": [
      "\u001b[0;31m---------------------------------------------------------------------------\u001b[0m",
      "\u001b[0;31mAttributeError\u001b[0m                            Traceback (most recent call last)",
      "\u001b[0;32m<ipython-input-8-d66080866db0>\u001b[0m in \u001b[0;36m<module>\u001b[0;34m\u001b[0m\n\u001b[1;32m      1\u001b[0m \u001b[0mprint\u001b[0m\u001b[0;34m(\u001b[0m\u001b[0;34mf\"bond_length  = {sol_mol.bond_length(0, 1): 6.4f}\"\u001b[0m\u001b[0;34m)\u001b[0m\u001b[0;34m\u001b[0m\u001b[0;34m\u001b[0m\u001b[0m\n\u001b[0;32m----> 2\u001b[0;31m \u001b[0mprint\u001b[0m\u001b[0;34m(\u001b[0m\u001b[0;34mf\"bond_length  = {my_mol.bond_length(0, 1): 6.4f}\"\u001b[0m\u001b[0;34m)\u001b[0m\u001b[0;34m\u001b[0m\u001b[0;34m\u001b[0m\u001b[0m\n\u001b[0m",
      "\u001b[0;31mAttributeError\u001b[0m: 'MyMolecule' object has no attribute 'bond_length'"
     ]
    }
   ],
   "source": [
    "print(f\"bond_length  = {sol_mol.bond_length(0, 1): 6.4f}\")\n",
    "print(f\"bond_length  = {my_mol.bond_length(0, 1): 6.4f}\")"
   ]
  },
  {
   "cell_type": "code",
   "execution_count": 9,
   "metadata": {},
   "outputs": [
    {
     "name": "stdout",
     "output_type": "stream",
     "text": [
      "bond_length  =  2.5511\n",
      "bond_length  =  2.5511\n"
     ]
    }
   ],
   "source": [
    "MyMolecule.bond_length = bond_length\n",
    "print(f\"bond_length  = {sol_mol.bond_length(0, 1): 6.4f}\")\n",
    "print(f\"bond_length  = {my_mol.bond_length(0, 1): 6.4f}\")"
   ]
  },
  {
   "cell_type": "code",
   "execution_count": null,
   "metadata": {},
   "outputs": [],
   "source": [
    "def test_bond_length(sol_mol_obj, my_mol_obj, filename = \"./input/allene.xyz\"):\n",
    "    assert isinstance(sol_mol_obj, SolMolecule)\n",
    "\n",
    "    sol_mol_obj.construct_from_dat_file(filename)\n",
    "    my_mol_obj.construct_from_dat_file(filename)\n",
    "    sol_natm = sol_mol.natm\n",
    "    my_natm = my_mol.natm\n",
    "    assert sol_natm == my_natm\n",
    "\n",
    "    for iatm in range(sol_mol_natm):\n",
    "        for jatm in range(sol_mol_natm):\n",
    "            if iatm != jatm:\n",
    "                sol_bond_length = sol_mol.bond_length(iatm, jatm)\n",
    "                my_bond_length = my_mol.bond_length(iatm, jatm)\n",
    "                assert abs(sol_bond_length - my_bond_length) < 1e-6\n",
    "\n",
    "test_bond_length(sol_mol, my_mol, filename = \"./input/allene.xyz\")"
   ]
  }
 ],
 "metadata": {
  "kernelspec": {
   "display_name": "Python 3.8.8 ('base')",
   "language": "python",
   "name": "python3"
  },
  "language_info": {
   "codemirror_mode": {
    "name": "ipython",
    "version": 3
   },
   "file_extension": ".py",
   "mimetype": "text/x-python",
   "name": "python",
   "nbconvert_exporter": "python",
   "pygments_lexer": "ipython3",
   "version": "3.8.8"
  },
  "orig_nbformat": 4,
  "vscode": {
   "interpreter": {
    "hash": "cd6d3c4e16ae333676ac5ff0bb552f825d1015cadc6d12817bd9921e3f430be2"
   }
  }
 },
 "nbformat": 4,
 "nbformat_minor": 2
}

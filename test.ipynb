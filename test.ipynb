{
 "cells": [
  {
   "cell_type": "code",
   "execution_count": 3,
   "metadata": {},
   "outputs": [
    {
     "name": "stdout",
     "output_type": "stream",
     "text": [
      "FCI root  0:  -1.900950675202\n",
      "    [0 1] [0 1]:  -0.435491116571\n",
      "    [0 1] [0 2]:   0.444012930659\n",
      "    [0 2] [0 1]:   0.444012930659\n",
      "    [0 2] [0 2]:   0.435491112013\n",
      "FCI root  1:  -1.825367071325\n",
      "    [0 1] [0 1]:   0.432401952987\n",
      "    [0 1] [0 2]:   0.424102774393\n",
      "    [0 2] [0 1]:   0.424102774393\n",
      "    [0 2] [0 2]:  -0.432401955829\n",
      "FCI root  2:  -1.823550919766\n",
      "    [0 1] [0 1]:   0.603848406878\n",
      "    [0 2] [0 2]:   0.603848382334\n",
      "FCI root  3:  -1.381889569582\n",
      "    [0 1] [0 3]:   0.596352305303\n",
      "    [0 3] [0 1]:   0.596352305303\n",
      "FCI root  4:  -1.381889569582\n",
      "    [0 2] [0 3]:   0.596352305303\n",
      "    [0 3] [0 2]:   0.596352305303\n",
      "FCI root  5:  -1.192318477071\n",
      "FCI root  6:  -1.192318477071\n",
      "FCI root  7:  -1.117514380095\n",
      "    [0 1] [1 2]:   0.547069214109\n",
      "    [1 2] [0 1]:   0.547069214109\n",
      "FCI root  8:  -1.117514380095\n",
      "    [0 2] [1 2]:  -0.547069214109\n",
      "    [1 2] [0 2]:  -0.547069214109\n",
      "FCI root  9:  -1.074088290323\n",
      "    [0 1] [2 3]:  -0.374410960902\n",
      "    [0 2] [1 3]:   0.374404710990\n",
      "    [1 2] [0 3]:  -0.374407573454\n",
      "    [0 3] [1 2]:  -0.374407573454\n",
      "    [1 3] [0 2]:   0.374404710990\n",
      "    [2 3] [0 1]:  -0.374410960902\n"
     ]
    },
    {
     "data": {
      "text/plain": [
       "array([-1.90095068, -1.82536707, -1.82355092, -1.38188957, -1.38188957,\n",
       "       -1.19231848, -1.19231848, -1.11751438, -1.11751438, -1.07408829])"
      ]
     },
     "execution_count": 3,
     "metadata": {},
     "output_type": "execute_result"
    }
   ],
   "source": [
    "import numpy, scipy, matplotlib\n",
    "from pyscf import gto, scf, cc, mp, fci\n",
    "\n",
    "def get_h4_fci_energy(a=1.0, b=1.0):\n",
    "    h4 = gto.Mole()\n",
    "    h4.atom = f'''\n",
    "    H { a: 6.4f} { b: 6.4f} 0.0\n",
    "    H {-a: 6.4f} { b: 6.4f} 0.0\n",
    "    H { a: 6.4f} {-b: 6.4f} 0.0\n",
    "    H {-a: 6.4f} {-b: 6.4f} 0.0\n",
    "    '''\n",
    "    h4.basis = '321g'\n",
    "    h4.verbose = 0\n",
    "    h4.build()\n",
    "\n",
    "    mf = scf.RHF(h4)\n",
    "    hcore = mf.get_hcore()\n",
    "    ovlp  = mf.get_ovlp()\n",
    "    mo_energy, mo_coeff = mf.eig(hcore, ovlp)\n",
    "\n",
    "    fci_obj = fci.FCI(h4, mo_coeff, singlet=True)\n",
    "    fci_obj.verbose = 0\n",
    "    fci_obj.nroots  = 10\n",
    "    e, c = fci_obj.kernel()\n",
    "    \n",
    "    fci_str_alph = fci.cistring._gen_occslst(range(4), 2)\n",
    "    fci_str_beta = fci.cistring._gen_occslst(range(4), 2)\n",
    "    \n",
    "    for i, (ie, ic) in enumerate(zip(e, c)):\n",
    "        print(f\"FCI root {i:2d}: {ie: 16.12f}\")\n",
    "        for ia, alph in enumerate(fci_str_alph):\n",
    "            for ib, beta in enumerate(fci_str_beta):\n",
    "                if (ic[ia, ib]) ** 2 > 1e-1:\n",
    "                    pass\n",
    "                    print(f\"    {alph} {beta}: {ic[ia, ib]: 16.12f}\")\n",
    "    return e\n",
    "\n",
    "d = 0.0\n",
    "get_h4_fci_energy(a=0.4+d, b=0.4-d)\n",
    "# d_list = numpy.linspace(-0.2, 0.2, 21)\n",
    "# fci_ene_list = []\n",
    "# for d in d_list:\n",
    "#     fci_ene_list.append(get_h4_fci_energy(a=0.4+d, b=0.4-d))\n",
    "\n",
    "# fci_ene_list = numpy.array(fci_ene_list)\n",
    "\n",
    "# from matplotlib import pyplot\n",
    "\n",
    "# fig, ax = matplotlib.pyplot.subplots()\n",
    "# ax.plot(d_list, fci_ene_list[:, 0], 'o-')\n",
    "# ax.plot(d_list, fci_ene_list[:, 1], 'o-')\n",
    "# ax.plot(d_list, fci_ene_list[:, 2], 'o-')\n",
    "# ax.plot(d_list, fci_ene_list[:, 3], 'o-')\n",
    "# ax.plot(d_list, fci_ene_list[:, 4], 'o-')"
   ]
  },
  {
   "cell_type": "code",
   "execution_count": 26,
   "metadata": {},
   "outputs": [
    {
     "data": {
      "text/plain": [
       "[<matplotlib.lines.Line2D at 0x7f8c5686a1d0>]"
      ]
     },
     "execution_count": 26,
     "metadata": {},
     "output_type": "execute_result"
    },
    {
     "data": {
      "image/png": "[encoded data removed]",
      "text/plain": [
       "<Figure size 640x480 with 1 Axes>"
      ]
     },
     "metadata": {},
     "output_type": "display_data"
    }
   ],
   "source": [
    "import numpy, scipy, matplotlib\n",
    "from pyscf import gto, scf, cc, mp, fci\n",
    "\n",
    "d_list = numpy.linspace(-0.02, 0.02, 21)\n",
    "fci_ene_list = []\n",
    "for d in d_list:\n",
    "    fci_ene_list.append(get_h4_fci_energy(a=0.3+d, b=0.3-d))\n",
    "\n",
    "fci_ene_list = numpy.array(fci_ene_list)\n",
    "\n",
    "from matplotlib import pyplot\n",
    "\n",
    "fig, ax = matplotlib.pyplot.subplots()\n",
    "ax.plot(d_list, fci_ene_list[:, 0], 'o-')\n",
    "ax.plot(d_list, fci_ene_list[:, 1], 'o-')\n",
    "ax.plot(d_list, fci_ene_list[:, 2], 'o-')\n",
    "ax.plot(d_list, fci_ene_list[:, 3], 'o-')\n",
    "ax.plot(d_list, fci_ene_list[:, 4], 'o-')"
   ]
  },
  {
   "cell_type": "code",
   "execution_count": null,
   "metadata": {},
   "outputs": [],
   "source": []
  }
 ],
 "metadata": {
  "kernelspec": {
   "display_name": "Python 3 (ipykernel)",
   "language": "python",
   "name": "python3"
  },
  "language_info": {
   "codemirror_mode": {
    "name": "ipython",
    "version": 3
   },
   "file_extension": ".py",
   "mimetype": "text/x-python",
   "name": "python",
   "nbconvert_exporter": "python",
   "pygments_lexer": "ipython3",
   "version": "3.10.4"
  },
  "vscode": {
   "interpreter": {
    "hash": "3ad933181bd8a04b432d3370b9dc3b0662ad032c4dfaa4e4f1596c548f763858"
   }
  }
 },
 "nbformat": 4,
 "nbformat_minor": 4
}

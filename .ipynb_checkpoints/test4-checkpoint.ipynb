{
 "cells": [
  {
   "cell_type": "code",
   "execution_count": 1,
   "metadata": {},
   "outputs": [
    {
     "data": {
      "text/plain": [
       "<pyscf.gto.mole.Mole at 0x111b88290>"
      ]
     },
     "execution_count": 1,
     "metadata": {},
     "output_type": "execute_result"
    }
   ],
   "source": [
    "import numpy as np\n",
    "from pyscf import gto, scf, dft, lib\n",
    "\n",
    "from pyscf.tools.dump_mat import dump_rec, dump_mo\n",
    "from sys import stdout\n",
    "\n",
    "from pop_scheme import FrgPopulationScheme, FrgMullikenPopulation\n",
    "from rdft       import Constraints, rdft\n",
    "\n",
    "mol = gto.Mole()\n",
    "mol.verbose = 0\n",
    "mol.atom = '''\n",
    "O  -1.551007  -0.114520   0.000000\n",
    "H  -1.934259   0.762503   0.000000\n",
    "H  -0.599677   0.040712   0.000000\n",
    "O   1.350625   0.111469   0.000000\n",
    "H   1.680398  -0.373741  -0.758561\n",
    "H   1.680398  -0.373741   0.758561\n",
    "'''\n",
    "\n",
    "mol.basis = '6-31g(d)'\n",
    "mol.spin   = 0\n",
    "mol.charge = 0\n",
    "mol.cart   = True\n",
    "mol.build()"
   ]
  },
  {
   "cell_type": "code",
   "execution_count": 2,
   "metadata": {},
   "outputs": [
    {
     "data": {
      "text/plain": [
       "-152.02982896658682"
      ]
     },
     "execution_count": 2,
     "metadata": {},
     "output_type": "execute_result"
    }
   ],
   "source": [
    "frg_list            = [[0,1,2],[3,4,5]]\n",
    "nelec_required_list = [[9.0], [11.0]]\n",
    "\n",
    "mf           = scf.RHF(mol)\n",
    "mf.conv_tol  = 1e-9\n",
    "mf.verbose   = 0\n",
    "mf.max_cycle = 100\n",
    "mf.kernel()"
   ]
  },
  {
   "cell_type": "code",
   "execution_count": 3,
   "metadata": {},
   "outputs": [
    {
     "name": "stdout",
     "output_type": "stream",
     "text": [
      "cycle= 1 E= -152.024309369831  delta_E= 0.00552  |g|= 0.021  |ddm|= 0.507\n",
      "cycle= 2 E= -152.023152038712  delta_E= 0.00116  |g|= 0.00588  |ddm|= 0.0534\n",
      "cycle= 3 E= -152.022949648649  delta_E= 0.000202  |g|= 0.00279  |ddm|= 0.00985\n",
      "cycle= 4 E= -152.022910221273  delta_E= 3.94e-05  |g|= 0.00149  |ddm|= 0.00324\n",
      "cycle= 5 E= -152.022898055602  delta_E= 1.22e-05  |g|= 0.000841  |ddm|= 0.00149\n",
      "cycle= 6 E= -152.022895639418  delta_E= 2.42e-06  |g|= 0.000493  |ddm|= 0.000796\n",
      "cycle= 7 E= -152.022894016364  delta_E= 1.62e-06  |g|= 0.000288  |ddm|= 0.000455\n",
      "cycle= 8 E= -152.022893901466  delta_E= 1.15e-07  |g|= 0.000171  |ddm|= 0.000263\n",
      "cycle= 9 E= -152.022893550438  delta_E= 3.51e-07  |g|= 0.000101  |ddm|= 0.000154\n",
      "cycle= 10 E= -152.022893591106  delta_E= -4.07e-08  |g|= 6.01e-05  |ddm|= 9.08e-05\n",
      "cycle= 11 E= -152.022893494505  delta_E= 9.66e-08  |g|= 3.56e-05  |ddm|= 5.37e-05\n",
      "cycle= 12 E= -152.022893521305  delta_E= -2.68e-08  |g|= 2.12e-05  |ddm|= 3.18e-05\n",
      "cycle= 13 E= -152.022893491241  delta_E= 3.01e-08  |g|= 1.26e-05  |ddm|= 1.89e-05\n",
      "cycle= 14 E= -152.02289350301  delta_E= -1.18e-08  |g|= 7.49e-06  |ddm|= 1.12e-05\n",
      "cycle= 15 E= -152.022893493024  delta_E= 9.99e-09  |g|= 4.45e-06  |ddm|= 6.66e-06\n",
      "converged SCF energy = -152.022893497667\n",
      " ** Mulliken pop  **\n",
      "pop of  0  O 1s        1.99532\n",
      "pop of  0  O 2s        0.89466\n",
      "pop of  0  O 3s        0.95487\n",
      "pop of  0  O 2px       0.85665\n",
      "pop of  0  O 2py       0.90549\n",
      "pop of  0  O 2pz       1.13741\n",
      "pop of  0  O 3px       0.61897\n",
      "pop of  0  O 3py       0.65655\n",
      "pop of  0  O 3pz       0.86002\n",
      "pop of  0  O 3dxx      0.03728\n",
      "pop of  0  O 3dxy      0.00657\n",
      "pop of  0  O 3dxz      0.00047\n",
      "pop of  0  O 3dyy      0.02790\n",
      "pop of  0  O 3dyz      0.00169\n",
      "pop of  0  O 3dzz      0.00044\n",
      "pop of  1  H 1s        0.46581\n",
      "pop of  1  H 2s        0.11190\n",
      "pop of  2  H 1s        0.44421\n",
      "pop of  2  H 2s       -0.02730\n",
      "pop of  3  O 1s        1.99524\n",
      "pop of  3  O 2s        0.88964\n",
      "pop of  3  O 3s        0.96254\n",
      "pop of  3  O 2px       1.07511\n",
      "pop of  3  O 2py       1.01171\n",
      "pop of  3  O 2pz       0.81072\n",
      "pop of  3  O 3px       0.84386\n",
      "pop of  3  O 3py       0.74716\n",
      "pop of  3  O 3pz       0.53881\n",
      "pop of  3  O 3dxx      0.00510\n",
      "pop of  3  O 3dxy      0.00517\n",
      "pop of  3  O 3dxz      0.00629\n",
      "pop of  3  O 3dyy      0.00353\n",
      "pop of  3  O 3dyz      0.01498\n",
      "pop of  3  O 3dzz      0.02896\n",
      "pop of  4  H 1s        0.45664\n",
      "pop of  4  H 2s        0.09949\n",
      "pop of  5  H 1s        0.45664\n",
      "pop of  5  H 2s        0.09949\n",
      " ** Mulliken atomic charges  **\n",
      "charge of  0O =     -0.95431\n",
      "charge of  1H =      0.42229\n",
      "charge of  2H =      0.58308\n",
      "charge of  3O =     -0.93882\n",
      "charge of  4H =      0.44387\n",
      "charge of  5H =      0.44387\n",
      "omega =     0.200000, etot_1 =  -152.022893, etot_0 =  -152.029829, e_add1 =     0.180093, pop1 =     0.051072\n"
     ]
    },
    {
     "name": "stderr",
     "output_type": "stream",
     "text": [
      "Overwritten attributes  get_fock  of <class 'pyscf.scf.hf.RHF'>\n"
     ]
    }
   ],
   "source": [
    "etot_0             = mf.e_tot\n",
    "old_get_fock       = mf.get_fock\n",
    "old_energy_elec    = mf.energy_elec\n",
    "dm = mf.make_rdm1()\n",
    "\n",
    "omega               = 20.00\n",
    "omega_vals          = [[omega],[0.0]]\n",
    "e_add1              = rdft(mf, frg_list, nelec_required_list, omega_vals, dm0=dm, verbose=3, maxiter=1000, tol=1e-8,\n",
    "                               diis_class=lib.diis.DIIS, old_energy_elec=old_energy_elec, old_get_fock=old_get_fock)\n",
    "    \n",
    "pop                 = mf.mulliken_pop(verbose=4)[1]\n",
    "pop1                = pop[0]+pop[1]+pop[2]\n",
    "etot_1              = mf.e_tot\n",
    "\n",
    "print(\"omega = {: 12.6f}, etot_1 = {: 12.6f}, etot_0 = {: 12.6f}, e_add1 = {: 12.6f}, pop1 = {: 12.6f}\".format(\n",
    "        omega, etot_1, etot_0, e_add1, pop1\n",
    "    ))"
   ]
  },
  {
   "cell_type": "code",
   "execution_count": 4,
   "metadata": {},
   "outputs": [
    {
     "data": {
      "text/plain": [
       "0.5616399999999988"
      ]
     },
     "execution_count": 4,
     "metadata": {},
     "output_type": "execute_result"
    }
   ],
   "source": [
    "(1-0.985959)*40"
   ]
  },
  {
   "cell_type": "code",
   "execution_count": 5,
   "metadata": {},
   "outputs": [
    {
     "data": {
      "text/plain": [
       "0.6849599999999989"
      ]
     },
     "execution_count": 5,
     "metadata": {},
     "output_type": "execute_result"
    }
   ],
   "source": [
    "(1-0.988584)*60"
   ]
  },
  {
   "cell_type": "code",
   "execution_count": null,
   "metadata": {},
   "outputs": [],
   "source": []
  }
 ],
 "metadata": {
  "kernelspec": {
   "display_name": "Python 3",
   "language": "python",
   "name": "python3"
  },
  "language_info": {
   "codemirror_mode": {
    "name": "ipython",
    "version": 3
   },
   "file_extension": ".py",
   "mimetype": "text/x-python",
   "name": "python",
   "nbconvert_exporter": "python",
   "pygments_lexer": "ipython3",
   "version": "3.7.7"
  }
 },
 "nbformat": 4,
 "nbformat_minor": 4
}

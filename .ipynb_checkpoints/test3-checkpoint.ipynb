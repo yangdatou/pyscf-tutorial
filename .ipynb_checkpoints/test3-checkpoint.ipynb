{
 "cells": [
  {
   "cell_type": "code",
   "execution_count": 1,
   "metadata": {},
   "outputs": [
    {
     "data": {
      "text/plain": [
       "<pyscf.gto.mole.Mole at 0x10a545650>"
      ]
     },
     "execution_count": 1,
     "metadata": {},
     "output_type": "execute_result"
    }
   ],
   "source": [
    "import numpy as np\n",
    "from pyscf import gto, scf, dft\n",
    "\n",
    "from pyscf.tools.dump_mat import dump_rec\n",
    "from sys import stdout\n",
    "\n",
    "from pop_scheme import FrgPopulationScheme, FrgMullikenPopulation\n",
    "from rdft       import Constraints, rdft\n",
    "\n",
    "mol = gto.Mole()\n",
    "mol.verbose = 0\n",
    "mol.atom = '''\n",
    "O  -1.551007  -0.114520   0.000000\n",
    "H  -1.934259   0.762503   0.000000\n",
    "H  -0.599677   0.040712   0.000000\n",
    "O   1.350625   0.111469   0.000000\n",
    "H   1.680398  -0.373741  -0.758561\n",
    "H   1.680398  -0.373741   0.758561\n",
    "'''\n",
    "\n",
    "mol.basis = '6-31g(d)'\n",
    "mol.spin   = 0\n",
    "mol.charge = 0\n",
    "mol.build()"
   ]
  },
  {
   "cell_type": "code",
   "execution_count": 2,
   "metadata": {},
   "outputs": [
    {
     "name": "stdout",
     "output_type": "stream",
     "text": [
      " ** Mulliken pop  **\n",
      "pop of  0 O 1s        1.99786\n",
      "pop of  0 O 2s        0.87988\n",
      "pop of  0 O 3s        0.91173\n",
      "pop of  0 O 2px       0.91460\n",
      "pop of  0 O 2py       0.87484\n",
      "pop of  0 O 2pz       1.10923\n",
      "pop of  0 O 3px       0.52452\n",
      "pop of  0 O 3py       0.66622\n",
      "pop of  0 O 3pz       0.88901\n",
      "pop of  0 O 3dxy      0.00607\n",
      "pop of  0 O 3dyz      0.00149\n",
      "pop of  0 O 3dz^2     0.00447\n",
      "pop of  0 O 3dxz      0.00023\n",
      "pop of  0 O 3dx2-y2    0.01086\n",
      "pop of  1 H 1s        0.47715\n",
      "pop of  1 H 2s        0.11462\n",
      "pop of  2 H 1s        0.40978\n",
      "pop of  2 H 2s        1.19287\n",
      "pop of  3 O 1s        1.99769\n",
      "pop of  3 O 2s        0.93848\n",
      "pop of  3 O 3s        0.87768\n",
      "pop of  3 O 2px       0.74097\n",
      "pop of  3 O 2py       1.13935\n",
      "pop of  3 O 2pz       0.93501\n",
      "pop of  3 O 3px       0.33931\n",
      "pop of  3 O 3py       0.66142\n",
      "pop of  3 O 3pz       0.51547\n",
      "pop of  3 O 3dxy      0.00523\n",
      "pop of  3 O 3dyz      0.01548\n",
      "pop of  3 O 3dz^2     0.00042\n",
      "pop of  3 O 3dxz      0.00704\n",
      "pop of  3 O 3dx2-y2    0.00101\n",
      "pop of  4 H 1s        0.42898\n",
      "pop of  4 H 2s       -0.00897\n",
      "pop of  5 H 1s        0.42898\n",
      "pop of  5 H 2s       -0.00897\n",
      " ** Mulliken atomic charges  **\n",
      "charge of  0O =     -0.79103\n",
      "charge of  1H =      0.40823\n",
      "charge of  2H =     -0.60265\n",
      "charge of  3O =     -0.17454\n",
      "charge of  4H =      0.57999\n",
      "charge of  5H =      0.57999\n"
     ]
    },
    {
     "ename": "NameError",
     "evalue": "name 'etot_1' is not defined",
     "output_type": "error",
     "traceback": [
      "\u001b[0;31m---------------------------------------------------------------------------\u001b[0m",
      "\u001b[0;31mNameError\u001b[0m                                 Traceback (most recent call last)",
      "\u001b[0;32m<ipython-input-2-85cc7e7a633d>\u001b[0m in \u001b[0;36m<module>\u001b[0;34m\u001b[0m\n\u001b[1;32m     22\u001b[0m \u001b[0;34m\u001b[0m\u001b[0m\n\u001b[1;32m     23\u001b[0m print(\"omega = {: 12.6f}, e01 = {: 12.6f}, e_add1 = {: 12.6f}, pop1 = {: 12.6f}\".format(\n\u001b[0;32m---> 24\u001b[0;31m         \u001b[0momega\u001b[0m\u001b[0;34m,\u001b[0m \u001b[0metot_1\u001b[0m\u001b[0;34m-\u001b[0m\u001b[0metot_0\u001b[0m\u001b[0;34m,\u001b[0m \u001b[0me_add1\u001b[0m\u001b[0;34m,\u001b[0m \u001b[0mpop1\u001b[0m\u001b[0;34m\u001b[0m\u001b[0;34m\u001b[0m\u001b[0m\n\u001b[0m\u001b[1;32m     25\u001b[0m     ))\n",
      "\u001b[0;31mNameError\u001b[0m: name 'etot_1' is not defined"
     ]
    }
   ],
   "source": [
    "omega        = 40.0\n",
    "frg_list            = [[0,1,2],[3,4,5]]\n",
    "nelec_required_list = [[11.0], [9.0]]\n",
    "\n",
    "mf           = scf.RHF(mol)\n",
    "mf.conv_tol  = 1e-9\n",
    "mf.verbose   = 0\n",
    "mf.max_cycle = 100\n",
    "mf.kernel()\n",
    "\n",
    "etot_0             = mf.e_tot\n",
    "old_get_fock       = mf.get_fock\n",
    "old_energy_elec    = mf.energy_elec\n",
    "dm = mf.make_rdm1()\n",
    "\n",
    "omega_vals          = [[omega],[0.0]]\n",
    "e_add1              = rdft(mf, frg_list, nelec_required_list, omega_vals, dm0=dm, verbose=0, maxiter=500, tol=1e-8,\n",
    "                               old_energy_elec=old_energy_elec, old_get_fock=old_get_fock)\n",
    "    \n",
    "pop                 = mf.mulliken_pop(verbose=4)[1]\n",
    "pop1                = pop[0]+pop[1]+pop[2]\n",
    "etot_1              = mf.e_tot\n",
    "\n",
    "print(\"omega = {: 12.6f}, e01 = {: 12.6f}, e_add1 = {: 12.6f}, pop1 = {: 12.6f}\".format(\n",
    "        omega, etot_1-etot_0, e_add1, pop1\n",
    "    ))"
   ]
  },
  {
   "cell_type": "code",
   "execution_count": null,
   "metadata": {},
   "outputs": [],
   "source": []
  }
 ],
 "metadata": {
  "kernelspec": {
   "display_name": "Python 3",
   "language": "python",
   "name": "python3"
  },
  "language_info": {
   "codemirror_mode": {
    "name": "ipython",
    "version": 3
   },
   "file_extension": ".py",
   "mimetype": "text/x-python",
   "name": "python",
   "nbconvert_exporter": "python",
   "pygments_lexer": "ipython3",
   "version": "3.7.7"
  }
 },
 "nbformat": 4,
 "nbformat_minor": 4
}
